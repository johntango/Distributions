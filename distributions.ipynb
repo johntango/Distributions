{
 "cells": [
  {
   "cell_type": "code",
   "execution_count": 1,
   "metadata": {},
   "outputs": [
    {
     "data": {
      "image/png": "[encoded data removed]",
      "text/plain": [
       "<Figure size 640x480 with 1 Axes>"
      ]
     },
     "metadata": {},
     "output_type": "display_data"
    }
   ],
   "source": [
    "import numpy as np\n",
    "import matplotlib.pyplot as plt\n",
    "import scipy.stats as stats\n",
    "\n",
    "\n",
    "# Generate a random sample of 100 points from a normal distribution\n",
    "#sample = np.random.normal(size=1000)\n",
    "# Generate a weibull distribution\n",
    "#sample = np.random.weibull(2, 1000)\n",
    "# Generate a lognormal distribution\n",
    "#sample = np.random.lognormal(0, 0.5, 1000)\n",
    "#generate a uniform distribution\n",
    "#sample = np.random.uniform(0, 1, 1000)\n",
    "# Plot the sample as histogram with 20 bins\n",
    "plt.hist(sample, bins=100)\n",
    "plt.show()\n"
   ]
  },
  {
   "cell_type": "code",
   "execution_count": null,
   "metadata": {},
   "outputs": [],
   "source": [
    "# "
   ]
  },
  {
   "cell_type": "code",
   "execution_count": null,
   "metadata": {},
   "outputs": [],
   "source": [
    "# ENTER CODE HERE TO FIND THE BEST FITTING DISTRIBUTION"
   ]
  },
  {
   "cell_type": "code",
   "execution_count": 3,
   "metadata": {},
   "outputs": [],
   "source": [
    "#write sample to file sample.csv for use in other programs\n",
    "#import fs\n",
    "\n",
    "#with fs.open_fs('file://') as fs:\n",
    "#    with fs.open('sample.csv', 'w') as f:\n",
    "#       for i in range(len(sample)):\n",
    "#            f.write(str(sample[i]) + '\\n')\n",
    "\n",
    "\n",
    "\n",
    "\n"
   ]
  },
  {
   "cell_type": "code",
   "execution_count": null,
   "metadata": {},
   "outputs": [],
   "source": [
    "# test which distribution is closer to the sample: normal lognormal or uniform or weibull\n",
    "def test_distribution(sample, distribution):\n",
    "    # Fit the sample to the distribution\n",
    "    params = distribution.fit(sample)\n",
    "    # plot the sample and the fitted distribution to see how good the fit is\n",
    "    plt.hist(sample, bins=100, density=True)\n",
    "    # plot the fitted distribution for the sample with the fitted parameters\n",
    "    plt.plot(np.linspace(min(sample), max(sample), 100), distribution.pdf(np.linspace(min(sample), max(sample), 100), *params))\n",
    "    \n",
    "    \n",
    "    # Apply Kolmogorov-Smirnov test\n",
    "    p = stats.kstest(sample, distribution.name, args=params)\n",
    "    return p\n",
    "\n",
    "# Test the sample against normal, lognormal, uniform and weibull distributions\n",
    "# loop over the distributions [stats.norm, stats.lognorm, stats.uniform, stats.weibull_min]\n",
    "distributions = [stats.norm, stats.lognorm, stats.uniform, stats.weibull_min]\n",
    "# loop over the distributions and test each one\n",
    "pvalues = []\n",
    "for distribution in distributions:\n",
    "    # test the sample against the distribution\n",
    "    p = test_distribution(sample, distribution)\n",
    "    # print the p-value of the test\n",
    "    pvalues.append(p[1])\n",
    "    \n",
    "print(pvalues)\n",
    "\n",
    "#choose the distribution with the highest p-value as the best fit\n",
    "best_distribution = distributions[np.argmin(pvalues)]\n",
    "print(\"best: \"+str(best_distribution.name))"
   ]
  }
 ],
 "metadata": {
  "kernelspec": {
   "display_name": "Python 3",
   "language": "python",
   "name": "python3"
  },
  "language_info": {
   "codemirror_mode": {
    "name": "ipython",
    "version": 3
   },
   "file_extension": ".py",
   "mimetype": "text/x-python",
   "name": "python",
   "nbconvert_exporter": "python",
   "pygments_lexer": "ipython3",
   "version": "3.11.2"
  },
  "orig_nbformat": 4,
  "vscode": {
   "interpreter": {
    "hash": "949777d72b0d2535278d3dc13498b2535136f6dfe0678499012e853ee9abcab1"
   }
  }
 },
 "nbformat": 4,
 "nbformat_minor": 2
}
